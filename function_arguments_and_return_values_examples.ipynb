{
 "cells": [
  {
   "cell_type": "markdown",
   "id": "f662d169",
   "metadata": {},
   "source": [
    "# Function arguments and return values"
   ]
  },
  {
   "cell_type": "markdown",
   "id": "e91773d2",
   "metadata": {},
   "source": [
    "## Function inputs\n",
    "#### No input"
   ]
  },
  {
   "cell_type": "code",
   "execution_count": 1,
   "id": "41d0848f",
   "metadata": {},
   "outputs": [],
   "source": [
    "#Create a function that prints a general deforestation message\n",
    "def create_deforestation_message():\n",
    "    \"\"\"\n",
    "    Generates a general message about deforestation.\n",
    "    \"\"\"\n",
    "    print(\"Deforestation is a serious environmental issue. Help save our forests!\")"
   ]
  },
  {
   "cell_type": "code",
   "execution_count": 2,
   "id": "593ab8fa",
   "metadata": {},
   "outputs": [
    {
     "name": "stdout",
     "output_type": "stream",
     "text": [
      "Deforestation is a serious environmental issue. Help save our forests!\n"
     ]
    }
   ],
   "source": [
    "#Use the create_deforestation_message function\n",
    "create_deforestation_message()"
   ]
  },
  {
   "cell_type": "markdown",
   "id": "1378b1d7",
   "metadata": {},
   "source": [
    "#### Default inputs"
   ]
  },
  {
   "cell_type": "code",
   "execution_count": 6,
   "id": "da26696e",
   "metadata": {},
   "outputs": [],
   "source": [
    "#Create a function that prints a general deforestation message using a default argument\n",
    "def create_deforestation_message (location, \n",
    "                                  message=\"Deforestation is a serious environmental issue. Help save our forests!\"):\n",
    "    \"\"\"\n",
    "    Generates a general message about deforestation.\n",
    "    \n",
    "    Parameters:\n",
    "    - location: str, the location affected by deforestation\n",
    "    - message: str, the message to convey (default is a general message)\n",
    "    \"\"\"\n",
    "    print(f\"Deforestation in {location}: {message}\")\n",
    "\n",
    "    "
   ]
  },
  {
   "cell_type": "code",
   "execution_count": 7,
   "id": "b8cd9672",
   "metadata": {},
   "outputs": [
    {
     "name": "stdout",
     "output_type": "stream",
     "text": [
      "Deforestation in Amazon Rainforest: Deforestation is a serious environmental issue. Help save our forests!\n"
     ]
    }
   ],
   "source": [
    "create_deforestation_message(\"Amazon Rainforest\")"
   ]
  },
  {
   "cell_type": "code",
   "execution_count": 8,
   "id": "9b72469f",
   "metadata": {},
   "outputs": [
    {
     "name": "stdout",
     "output_type": "stream",
     "text": [
      "Deforestation in Borneo: Preserve biodiversity!\n"
     ]
    }
   ],
   "source": [
    "create_deforestation_message(\"Borneo\", \"Preserve biodiversity!\")"
   ]
  },
  {
   "cell_type": "markdown",
   "id": "e9956efe",
   "metadata": {
    "tags": []
   },
   "source": [
    "####  Variable inputs\n",
    "##### Keyword arguments"
   ]
  },
  {
   "cell_type": "code",
   "execution_count": 9,
   "id": "b72c88fa",
   "metadata": {},
   "outputs": [
    {
     "name": "stdout",
     "output_type": "stream",
     "text": [
      "Deforestation in Borneo: Preserve biodiversity!\n"
     ]
    }
   ],
   "source": [
    "#Create a function that prints a general deforestation message using a default argument\n",
    "def create_deforestation_message (location, \n",
    "                                  message=\"Deforestation is a serious environmental issue. Help save our forests!\"):\n",
    "    \"\"\"\n",
    "    Generates a general message about deforestation.\n",
    "    \n",
    "    Parameters:\n",
    "    - location: str, the location affected by deforestation\n",
    "    - message: str, the message to convey (default is a general message)\n",
    "    \"\"\"\n",
    "    print(f\"Deforestation in {location}: {message}\")\n",
    "\n",
    "#call the create_deforestation_message function using keyword arguments\n",
    "create_deforestation_message(message = \"Preserve biodiversity!\", location = \"Borneo\", )"
   ]
  },
  {
   "cell_type": "markdown",
   "id": "96a984f8",
   "metadata": {},
   "source": [
    "##### Positional arguments/Non-keyword arguments"
   ]
  },
  {
   "cell_type": "code",
   "execution_count": 10,
   "id": "5a59aebe",
   "metadata": {},
   "outputs": [
    {
     "name": "stdout",
     "output_type": "stream",
     "text": [
      "Deforestation in Borneo: Preserve biodiversity!\n"
     ]
    }
   ],
   "source": [
    "#Create a function that prints a general deforestation message using a default argument\n",
    "def create_deforestation_message (location, \n",
    "                                  message=\"Deforestation is a serious environmental issue. Help save our forests!\"):\n",
    "    \"\"\"\n",
    "    Generates a general message about deforestation.\n",
    "    \n",
    "    Parameters:\n",
    "    - location: str, the location affected by deforestation\n",
    "    - message: str, the message to convey (default is a general message)\n",
    "    \"\"\"\n",
    "    print(f\"Deforestation in {location}: {message}\")\n",
    "\n",
    "#call the create_deforestation_message function using positional arguments\n",
    "create_deforestation_message( \"Borneo\", \"Preserve biodiversity!\" )"
   ]
  },
  {
   "cell_type": "code",
   "execution_count": 11,
   "id": "8f420ac1",
   "metadata": {},
   "outputs": [
    {
     "name": "stdout",
     "output_type": "stream",
     "text": [
      "Deforestation in Preserve biodiversity!: Borneo\n"
     ]
    }
   ],
   "source": [
    "#call the create_deforestation_message function using positional arguments in the incorrect order\n",
    "create_deforestation_message(\"Preserve biodiversity!\", \"Borneo\")"
   ]
  },
  {
   "cell_type": "markdown",
   "id": "4f74266a",
   "metadata": {},
   "source": [
    "#### *args: Variable non-keyword arguments\n",
    "\n",
    "`*args` enable a function to accept any number of positional arguments, that is, non-keyword arguments in a variable-length argument list.\n",
    "\n",
    "An `*args` parameter is created in the same way as any other parameter, with the exception that an asterisk is added before the parameter name.\n",
    "\n",
    "Suppose we also wanted to create a function that allows the user to track the impact of deforestation on their forest. We could write a function that takes each consequence as an argument, but users may want to list a varying number of consequences or arguments.  This would be possible with `*args`."
   ]
  },
  {
   "cell_type": "code",
   "execution_count": 12,
   "id": "a2e44d22",
   "metadata": {},
   "outputs": [
    {
     "name": "stdout",
     "output_type": "stream",
     "text": [
      "Impacts of deforestation:\n",
      "Loss of biodiversity, Climate change, Disruption of ecosystems\n"
     ]
    }
   ],
   "source": [
    "def deforestation_impact(*consequences):\n",
    "    \"\"\"\n",
    "    Describes the impacts of deforestation.\n",
    "\n",
    "    Parameters:\n",
    "    - *consequences: tuple, variable number of consequences\n",
    "    \"\"\"\n",
    "    print(\"Impacts of deforestation:\")\n",
    "    print(\", \".join(consequences))\n",
    "    \n",
    "#Call the deforestation_impact function and pass it various deforestation consequences\n",
    "deforestation_impact(\"Loss of biodiversity\", \n",
    "                     \"Climate change\", \n",
    "                     \"Disruption of ecosystems\")"
   ]
  },
  {
   "cell_type": "markdown",
   "id": "a7b1a94f",
   "metadata": {},
   "source": [
    "#### **kwargs: Keyword arguments"
   ]
  },
  {
   "cell_type": "code",
   "execution_count": 14,
   "id": "2c324850",
   "metadata": {},
   "outputs": [
    {
     "name": "stdout",
     "output_type": "stream",
     "text": [
      "Forest details:\n",
      "location: Borneo\n",
      "cause: Illegal logging\n",
      "area: National Park\n"
     ]
    }
   ],
   "source": [
    "def list_forest_details(**details):\n",
    "    \"\"\"\n",
    "    Lists detailed information about a forest.\n",
    "\n",
    "    Parameters:\n",
    "    - **details: dict, variable number of keyword arguments\n",
    "    \"\"\"\n",
    "    print(\"Forest details:\")\n",
    "    #loop through the dictionary to extract and print the key and value\n",
    "    for key, value in details.items():    \n",
    "        print(f\"{key}: {value}\")\n",
    "\n",
    "#Call the list_forest_details function and pass it various forest details\n",
    "list_forest_details(location=\"Borneo\", cause=\"Illegal logging\", area=\"National Park\")\n"
   ]
  },
  {
   "cell_type": "markdown",
   "id": "ec69065b",
   "metadata": {},
   "source": [
    "## Multiple return values"
   ]
  },
  {
   "cell_type": "code",
   "execution_count": 15,
   "id": "e17c3603",
   "metadata": {},
   "outputs": [],
   "source": [
    "def calculate_deforestation_impact(initial_forest_area, remaining_forest_area, carbon_emission_factor=2.3):\n",
    "    \"\"\"\n",
    "    Calculates the impact of deforestation.\n",
    "\n",
    "    Parameters:\n",
    "    - initial_forest_area: float, initial forest area in square kilometres\n",
    "    - remaining_forest_area: float, remaining forest area in square kilometres\n",
    "    - carbon_emission_factor: float, factor representing CO2 emissions \n",
    "                            per unit of tree cover loss (default is 2.3)\n",
    "\n",
    "    Returns:\n",
    "    - tuple: (float, float, float), percentage of tree cover loss, \n",
    "            remaining forest area, and estimated increase in CO2 emissions\n",
    "    \"\"\"\n",
    "    # Calculate the percentage of tree cover loss\n",
    "    tree_cover_loss_percentage = ((initial_forest_area - remaining_forest_area) / initial_forest_area) * 100\n",
    "\n",
    "    # Calculate the estimated increase in CO2 emissions\n",
    "    estimated_emission = tree_cover_loss_percentage * carbon_emission_factor * initial_forest_area / 100\n",
    "\n",
    "    return tree_cover_loss_percentage, remaining_forest_area, estimated_emission"
   ]
  },
  {
   "cell_type": "code",
   "execution_count": 16,
   "id": "06046ddc",
   "metadata": {},
   "outputs": [],
   "source": [
    "loss_percentage, remaining_area, co2_increase = calculate_deforestation_impact(1000, 800)"
   ]
  },
  {
   "cell_type": "code",
   "execution_count": 17,
   "id": "c674a8c0",
   "metadata": {},
   "outputs": [
    {
     "name": "stdout",
     "output_type": "stream",
     "text": [
      "Tree cover loss percentage: 20.0\n",
      "Remaining forest area: 800 square kilometres\n",
      "Estimated increase in CO2 emissions: 460.0 metric tons\n"
     ]
    }
   ],
   "source": [
    "print(f\"Tree cover loss percentage: {loss_percentage}\")\n",
    "print(f\"Remaining forest area: {remaining_area} square kilometres\")\n",
    "print(f\"Estimated increase in CO2 emissions: {co2_increase} metric tons\")"
   ]
  }
 ],
 "metadata": {
  "kernelspec": {
   "display_name": "Python 3 (ipykernel)",
   "language": "python",
   "name": "python3"
  },
  "language_info": {
   "codemirror_mode": {
    "name": "ipython",
    "version": 3
   },
   "file_extension": ".py",
   "mimetype": "text/x-python",
   "name": "python",
   "nbconvert_exporter": "python",
   "pygments_lexer": "ipython3",
   "version": "3.11.5"
  }
 },
 "nbformat": 4,
 "nbformat_minor": 5
}
